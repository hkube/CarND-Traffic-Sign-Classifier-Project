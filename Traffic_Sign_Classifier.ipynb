{
 "cells": [
  {
   "cell_type": "markdown",
   "metadata": {},
   "source": [
    "# Self-Driving Car Engineer Nanodegree\n",
    "\n",
    "## Deep Learning\n",
    "\n",
    "## Project: Build a Traffic Sign Recognition Classifier\n",
    "\n",
    "In this notebook, a template is provided for you to implement your functionality in stages, which is required to successfully complete this project. If additional code is required that cannot be included in the notebook, be sure that the Python code is successfully imported and included in your submission if necessary. \n",
    "\n",
    "> **Note**: Once you have completed all of the code implementations, you need to finalize your work by exporting the iPython Notebook as an HTML document. Before exporting the notebook to html, all of the code cells need to have been run so that reviewers can see the final implementation and output. You can then export the notebook by using the menu above and navigating to  \\n\",\n",
    "    \"**File -> Download as -> HTML (.html)**. Include the finished document along with this notebook as your submission. \n",
    "\n",
    "In addition to implementing code, there is a writeup to complete. The writeup should be completed in a separate file, which can be either a markdown file or a pdf document. There is a [write up template](https://github.com/udacity/CarND-Traffic-Sign-Classifier-Project/blob/master/writeup_template.md) that can be used to guide the writing process. Completing the code template and writeup template will cover all of the [rubric points](https://review.udacity.com/#!/rubrics/481/view) for this project.\n",
    "\n",
    "The [rubric](https://review.udacity.com/#!/rubrics/481/view) contains \"Stand Out Suggestions\" for enhancing the project beyond the minimum requirements. The stand out suggestions are optional. If you decide to pursue the \"stand out suggestions\", you can include the code in this Ipython notebook and also discuss the results in the writeup file.\n",
    "\n",
    "\n",
    ">**Note:** Code and Markdown cells can be executed using the **Shift + Enter** keyboard shortcut. In addition, Markdown cells can be edited by typically double-clicking the cell to enter edit mode."
   ]
  },
  {
   "cell_type": "markdown",
   "metadata": {},
   "source": [
    "---\n",
    "## Step 0: Load The Data"
   ]
  },
  {
   "cell_type": "code",
   "execution_count": 1,
   "metadata": {
    "collapsed": true
   },
   "outputs": [],
   "source": [
    "# Load pickled data\n",
    "import pickle\n",
    "\n",
    "# TODO: Fill this in based on where you saved the training and testing data\n",
    "\n",
    "training_file = \"traffic-signs-data/train.p\"\n",
    "validation_file=\"traffic-signs-data/valid.p\"\n",
    "testing_file =  \"traffic-signs-data/test.p\"\n",
    "\n",
    "with open(training_file, mode='rb') as f:\n",
    "    train = pickle.load(f)\n",
    "with open(validation_file, mode='rb') as f:\n",
    "    valid = pickle.load(f)\n",
    "with open(testing_file, mode='rb') as f:\n",
    "    test = pickle.load(f)\n",
    "    \n",
    "X_train_rgb, y_train = train['features'], train['labels']\n",
    "X_valid_rgb, y_valid = valid['features'], valid['labels']\n",
    "X_test_rgb, y_test = test['features'], test['labels']\n",
    "\n",
    "# Limit the size of the training data set\n",
    "if False:\n",
    "    limitedDataSetSize = 100\n",
    "    X_train_rgb = X_train_rgb[:limitedDataSetSize]\n",
    "    y_train     = y_train[:limitedDataSetSize]\n",
    "    X_valid_rgb = X_valid_rgb[:limitedDataSetSize]\n",
    "    y_valid     = y_valid[:limitedDataSetSize]\n",
    "\n",
    "\n",
    "assert(len(X_train_rgb) == len(y_train))\n",
    "assert(len(X_valid_rgb) == len(y_valid))\n",
    "assert(len(X_test_rgb)  == len(y_test))"
   ]
  },
  {
   "cell_type": "markdown",
   "metadata": {},
   "source": [
    "---\n",
    "\n",
    "## Step 1: Dataset Summary & Exploration\n",
    "\n",
    "The pickled data is a dictionary with 4 key/value pairs:\n",
    "\n",
    "- `'features'` is a 4D array containing raw pixel data of the traffic sign images, (num examples, width, height, channels).\n",
    "- `'labels'` is a 1D array containing the label/class id of the traffic sign. The file `signnames.csv` contains id -> name mappings for each id.\n",
    "- `'sizes'` is a list containing tuples, (width, height) representing the original width and height the image.\n",
    "- `'coords'` is a list containing tuples, (x1, y1, x2, y2) representing coordinates of a bounding box around the sign in the image. **THESE COORDINATES ASSUME THE ORIGINAL IMAGE. THE PICKLED DATA CONTAINS RESIZED VERSIONS (32 by 32) OF THESE IMAGES**\n",
    "\n",
    "Complete the basic data summary below. Use python, numpy and/or pandas methods to calculate the data summary rather than hard coding the results. For example, the [pandas shape method](http://pandas.pydata.org/pandas-docs/stable/generated/pandas.DataFrame.shape.html) might be useful for calculating some of the summary results. "
   ]
  },
  {
   "cell_type": "markdown",
   "metadata": {},
   "source": [
    "### Provide a Basic Summary of the Data Set Using Python, Numpy and/or Pandas"
   ]
  },
  {
   "cell_type": "code",
   "execution_count": 2,
   "metadata": {},
   "outputs": [
    {
     "name": "stdout",
     "output_type": "stream",
     "text": [
      "X_train.shape: (34799, 32, 32, 3)\n",
      "Number of training examples = 34799 / 34799\n",
      "Number of validation examples = 4410 / 4410\n",
      "Number of testing examples = 12630\n",
      "Image data shape = (32, 32, 3)\n",
      "Number of classes = 43\n"
     ]
    }
   ],
   "source": [
    "### Replace each question mark with the appropriate value. \n",
    "### Use python, pandas or numpy methods rather than hard coding the results\n",
    "import numpy as np\n",
    "\n",
    "# TODO: Number of training examples\n",
    "n_train = len(X_train_rgb)\n",
    "\n",
    "# TODO: Number of validation examples\n",
    "n_validation = len(X_valid_rgb)\n",
    "\n",
    "# TODO: Number of testing examples.\n",
    "n_test = len(X_test_rgb)\n",
    "\n",
    "# TODO: What's the shape of an traffic sign image?\n",
    "image_shape = X_train_rgb[0].shape\n",
    "\n",
    "# TODO: How many unique classes/labels there are in the dataset.\n",
    "n_classes = len(np.unique(y_test))\n",
    "\n",
    "print(\"X_train.shape:\", X_train_rgb.shape)\n",
    "print(\"Number of training examples =\", n_train, \"/\", len(y_train))\n",
    "print(\"Number of validation examples =\", n_validation, \"/\", len(y_valid))\n",
    "print(\"Number of testing examples =\", n_test)\n",
    "print(\"Image data shape =\", image_shape)\n",
    "print(\"Number of classes =\", n_classes)"
   ]
  },
  {
   "cell_type": "markdown",
   "metadata": {},
   "source": [
    "### Include an exploratory visualization of the dataset"
   ]
  },
  {
   "cell_type": "markdown",
   "metadata": {},
   "source": [
    "Visualize the German Traffic Signs Dataset using the pickled file(s). This is open ended, suggestions include: plotting traffic sign images, plotting the count of each sign, etc. \n",
    "\n",
    "The [Matplotlib](http://matplotlib.org/) [examples](http://matplotlib.org/examples/index.html) and [gallery](http://matplotlib.org/gallery.html) pages are a great resource for doing visualizations in Python.\n",
    "\n",
    "**NOTE:** It's recommended you start with something simple first. If you wish to do more, come back to it after you've completed the rest of the sections. It can be interesting to look at the distribution of classes in the training, validation and test set. Is the distribution the same? Are there more examples of some classes than others?"
   ]
  },
  {
   "cell_type": "code",
   "execution_count": 3,
   "metadata": {},
   "outputs": [
    {
     "data": {
      "image/png": "[encoded data removed]",
      "text/plain": [
       "<matplotlib.figure.Figure at 0x104fb81d0>"
      ]
     },
     "metadata": {},
     "output_type": "display_data"
    }
   ],
   "source": [
    "### Data exploration visualization code goes here.\n",
    "### Feel free to use as many code cells as needed.\n",
    "import matplotlib.pyplot as plt\n",
    "# Visualizations will be shown in the notebook.\n",
    "%matplotlib inline\n",
    "\n",
    "#imgPane = plt.figure(\"Training data examples\", figsize=(1,1)) #1, (10., 10.))\n",
    "#plt.figure(figsize=(1,1))\n",
    "#grid = ImageGrid(imgPane, 111, nrows_ncols=(2), 2), axes_pad=0.1)\n",
    "f, axarr = plt.subplots(1, 8)\n",
    "for i in range(8):\n",
    "    axarr[i].imshow(X_train_rgb[i].squeeze())"
   ]
  },
  {
   "cell_type": "markdown",
   "metadata": {},
   "source": [
    "----\n",
    "\n",
    "## Step 2: Design and Test a Model Architecture\n",
    "\n",
    "Design and implement a deep learning model that learns to recognize traffic signs. Train and test your model on the [German Traffic Sign Dataset](http://benchmark.ini.rub.de/?section=gtsrb&subsection=dataset).\n",
    "\n",
    "The LeNet-5 implementation shown in the [classroom](https://classroom.udacity.com/nanodegrees/nd013/parts/fbf77062-5703-404e-b60c-95b78b2f3f9e/modules/6df7ae49-c61c-4bb2-a23e-6527e69209ec/lessons/601ae704-1035-4287-8b11-e2c2716217ad/concepts/d4aca031-508f-4e0b-b493-e7b706120f81) at the end of the CNN lesson is a solid starting point. You'll have to change the number of classes and possibly the preprocessing, but aside from that it's plug and play! \n",
    "\n",
    "With the LeNet-5 solution from the lecture, you should expect a validation set accuracy of about 0.89. To meet specifications, the validation set accuracy will need to be at least 0.93. It is possible to get an even higher accuracy, but 0.93 is the minimum for a successful project submission. \n",
    "\n",
    "There are various aspects to consider when thinking about this problem:\n",
    "\n",
    "- Neural network architecture (is the network over or underfitting?)\n",
    "- Play around preprocessing techniques (normalization, rgb to grayscale, etc)\n",
    "- Number of examples per label (some have more than others).\n",
    "- Generate fake data.\n",
    "\n",
    "Here is an example of a [published baseline model on this problem](http://yann.lecun.com/exdb/publis/pdf/sermanet-ijcnn-11.pdf). It's not required to be familiar with the approach used in the paper but, it's good practice to try to read papers like these."
   ]
  },
  {
   "cell_type": "markdown",
   "metadata": {},
   "source": [
    "### Pre-process the Data Set (normalization, grayscale, etc.)"
   ]
  },
  {
   "cell_type": "markdown",
   "metadata": {},
   "source": [
    "Minimally, the image data should be normalized so that the data has mean zero and equal variance. For image data, `(pixel - 128)/ 128` is a quick way to approximately normalize the data and can be used in this project. \n",
    "\n",
    "Other pre-processing steps are optional. You can try different techniques to see if it improves performance. \n",
    "\n",
    "Use the code cell (or multiple code cells, if necessary) to implement the first step of your project."
   ]
  },
  {
   "cell_type": "code",
   "execution_count": 4,
   "metadata": {},
   "outputs": [
    {
     "name": "stdout",
     "output_type": "stream",
     "text": [
      "X_train.shape: (34799, 32, 32, 1)\n",
      "X_valid.shape: (4410, 32, 32, 1)\n",
      "X_test.shape: (12630, 32, 32, 1)\n"
     ]
    },
    {
     "data": {
      "image/png": "[encoded data removed]",
      "text/plain": [
       "<matplotlib.figure.Figure at 0x121ee4fd0>"
      ]
     },
     "metadata": {},
     "output_type": "display_data"
    }
   ],
   "source": [
    "### Preprocess the data here. It is required to normalize the data. Other preprocessing steps could include \n",
    "### converting to grayscale, etc.\n",
    "### Feel free to use as many code cells as needed.\n",
    "from sklearn.utils import shuffle\n",
    "\n",
    "def rgb2gray(rgb):\n",
    "    gray = np.zeros((rgb.shape[0], rgb.shape[1], 1), dtype=np.float32)\n",
    "    gray = np.floor(np.dot(rgb[...,:3].astype(np.float32), [.3, .6, .1]))\n",
    "    return gray\n",
    "\n",
    "def normalize(gray):\n",
    "    return gray.astype(np.float32)/255 - 0.5\n",
    "\n",
    "def hist_equal(gray):\n",
    "    hist   = np.histogram(gray, bins=np.arange(257))[0]\n",
    "    newVal = np.cumsum(hist) / float(np.sum(hist))\n",
    "    equal  = newVal[gray.flatten().astype('int')] - 0.5\n",
    "    equal  = equal.reshape(gray.shape)\n",
    "    return equal\n",
    "\n",
    "def toGrayscale(image_array):\n",
    "    new_array = np.empty([len(image_array), image_shape[0], image_shape[1], 1], dtype=np.float32)\n",
    "    for i in range(len(image_array)):\n",
    "        new_array[i,:,:,0] = hist_equal(rgb2gray(image_array[i]))[:,:]\n",
    "    return new_array\n",
    "\n",
    "X_train = toGrayscale(X_train_rgb)\n",
    "X_valid = toGrayscale(X_valid_rgb)\n",
    "X_test = toGrayscale(X_test_rgb)\n",
    "print(\"X_train.shape:\", X_train.shape)\n",
    "print(\"X_valid.shape:\", X_valid.shape)\n",
    "print(\"X_test.shape:\", X_test.shape)\n",
    "\n",
    "# Shuffle the training data\n",
    "X_train, y_train = shuffle(X_train, y_train)\n",
    "\n",
    "f, axarr = plt.subplots(1, 8)\n",
    "for i in range(8):\n",
    "    axarr[i].imshow(X_train[i].squeeze(), cmap=\"gray\")\n"
   ]
  },
  {
   "cell_type": "markdown",
   "metadata": {},
   "source": [
    "### Model Architecture"
   ]
  },
  {
   "cell_type": "code",
   "execution_count": 5,
   "metadata": {
    "collapsed": true
   },
   "outputs": [],
   "source": [
    "### Define your architecture here.\n",
    "### Feel free to use as many code cells as needed.\n",
    "import tensorflow as tf\n",
    "\n",
    "def TrafficSignClassifier(x, keep_prob=1.0):\n",
    "    # Argument for tf.truncated_normal\n",
    "    sigma = 0.1\n",
    "    \n",
    "    ### Layer 1\n",
    "    # Convolutional: input 32x32x1, output 28x28x6\n",
    "    W1 = tf.Variable(tf.random_normal([5,5,1,6], mean=0, stddev=sigma), name=\"W1\")\n",
    "    B1 = tf.Variable(tf.zeros([6]), name=\"B1\")\n",
    "    o1 = tf.nn.conv2d(x, W1, strides=[1,1,1,1], padding='VALID') + B1\n",
    "    \n",
    "    # Activation\n",
    "    o1 = tf.nn.relu(o1)\n",
    "    \n",
    "    # Dropout\n",
    "#    o1 = tf.nn.dropout(o1, keep_prob)\n",
    "    \n",
    "    # Pooling: input 28x28x6, output 14x14x6\n",
    "    o1 = tf.nn.max_pool(o1, [1,2,2,1], [1,2,2,1], 'VALID')\n",
    "    \n",
    "    ### Layer 2\n",
    "    # Convolutional: input 14x14x6, output 10x10x32 # 10X10X16\n",
    "    W2 = tf.Variable(tf.random_normal([5,5,6,32], mean=0, stddev=sigma), name=\"W2\")\n",
    "    B2 = tf.Variable(tf.zeros([32]), name=\"B2\")\n",
    "    o2 = tf.nn.conv2d(o1, W2, strides=[1,1,1,1], padding='VALID') + B2\n",
    "    \n",
    "    # Activation\n",
    "    o2 = tf.nn.relu(o2)\n",
    "    \n",
    "    # Dropout\n",
    "#    o2 = tf.nn.dropout(o2, keep_prob)\n",
    "    \n",
    "    # Pooling: input 10x10x32, output 5x5x32\n",
    "    o2 = tf.nn.max_pool(o2, [1,2,2,1], [1,2,2,1], 'VALID')\n",
    "    \n",
    "    ### Flatten: input 5x5x32, output 800\n",
    "    o2 = tf.contrib.layers.flatten(o2)\n",
    "    \n",
    "    ### Layer 3\n",
    "    # Fully connected: input 800 output 240\n",
    "    W3 = tf.Variable(tf.random_normal([800, 240], mean=0, stddev=sigma), name=\"W3\")\n",
    "    B3 = tf.Variable(tf.zeros([240]), name=\"B3\")\n",
    "    o3 = tf.matmul(o2, W3) + B3\n",
    "    \n",
    "    # Activation\n",
    "    o3 = tf.nn.relu(o3)\n",
    "    \n",
    "    # Dropout\n",
    "    o3 = tf.nn.dropout(o3, keep_prob)\n",
    "    \n",
    "    ### Layer 4\n",
    "    # Fully connected: input 240, output 150\n",
    "    W4 = tf.Variable(tf.random_normal([240, 150], mean=0, stddev=sigma), name=\"W4\")\n",
    "    B4 = tf.Variable(tf.zeros(150), name=\"B4\")\n",
    "    o4 = tf.matmul(o3, W4) + B4\n",
    "    \n",
    "    # Activation\n",
    "    o4 = tf.nn.relu(o4)\n",
    "    \n",
    "    # Dropout\n",
    "    o4 = tf.nn.dropout(o4, keep_prob)\n",
    "    \n",
    "    ### Layer 5\n",
    "    # Fully connected: input 150, output 43\n",
    "    W5 = tf.Variable(tf.random_normal([150, 43], mean=0, stddev=sigma), name=\"W5\")\n",
    "    B5 = tf.Variable(tf.zeros(43), name=\"B5\")\n",
    "    logits = tf.matmul(o4, W5) + B5\n",
    "    \n",
    "    if False:\n",
    "        print(\"x.shape:\", x.shape)\n",
    "        print(\"o1.shape:\", o1.shape)\n",
    "        print(\"o2.shape:\", o2.shape)\n",
    "        print(\"o3.shape:\", o3.shape)\n",
    "        print(\"o4.shape:\", o4.shape)\n",
    "        print(\"logits.shape:\", logits.shape)\n",
    "    \n",
    "    return logits\n"
   ]
  },
  {
   "cell_type": "markdown",
   "metadata": {},
   "source": [
    "### Train, Validate and Test the Model"
   ]
  },
  {
   "cell_type": "markdown",
   "metadata": {},
   "source": [
    "A validation set can be used to assess how well the model is performing. A low accuracy on the training and validation\n",
    "sets imply underfitting. A high accuracy on the training set but low accuracy on the validation set implies overfitting."
   ]
  },
  {
   "cell_type": "code",
   "execution_count": 6,
   "metadata": {
    "collapsed": true
   },
   "outputs": [],
   "source": [
    "import sklearn.utils\n",
    "\n",
    "keep_prob = 0.7\n",
    "rate = 0.0003 #0.001\n",
    "BATCH_SIZE = 192 #128\n",
    "\n",
    "x = tf.placeholder(tf.float32, (None, 32, 32, 1), name=\"x\")\n",
    "y = tf.placeholder(tf.int32, (None), name=\"y\")\n",
    "one_hot_y = tf.one_hot(y, 43)\n",
    "\n",
    "logits = TrafficSignClassifier(x, keep_prob=keep_prob)\n",
    "cross_entropy = tf.nn.softmax_cross_entropy_with_logits(labels=one_hot_y, logits=logits)\n",
    "loss_operation = tf.reduce_mean(cross_entropy)\n",
    "optimizer = tf.train.AdamOptimizer(learning_rate = rate)\n",
    "training_operation = optimizer.minimize(loss_operation)\n",
    "\n",
    "correct_prediction = tf.equal(tf.argmax(logits, 1), tf.argmax(one_hot_y, 1))\n",
    "accuracy_operation = tf.reduce_mean(tf.cast(correct_prediction, tf.float32))\n",
    "saver = tf.train.Saver()\n",
    "\n",
    "def evaluate(X_data, y_data):\n",
    "    num_examples = len(X_data)\n",
    "    total_accuracy = 0\n",
    "    sess = tf.get_default_session()\n",
    "    for offset in range(0, num_examples, BATCH_SIZE):\n",
    "        batch_x, batch_y = X_data[offset:offset+BATCH_SIZE], y_data[offset:offset+BATCH_SIZE]\n",
    "#        print(\"evaluate() batch x:\", len(batch_x), \",\", len(batch_y), \")\")\n",
    "        accuracy = sess.run(accuracy_operation, feed_dict={x: batch_x, y: batch_y})\n",
    "        total_accuracy += (accuracy * len(batch_x))\n",
    "    return total_accuracy / num_examples\n"
   ]
  },
  {
   "cell_type": "code",
   "execution_count": 7,
   "metadata": {},
   "outputs": [
    {
     "name": "stdout",
     "output_type": "stream",
     "text": [
      "Training...\n",
      "EPOCH [1] ... rate: 0.00030 keep: 0.500 accuracy train: 0.487 valid: 0.445\n",
      "EPOCH [2] ... rate: 0.00030 keep: 0.500 accuracy train: 0.679 valid: 0.638\n",
      "EPOCH [3] ... rate: 0.00030 keep: 0.500 accuracy train: 0.775 valid: 0.734\n",
      "EPOCH [4] ... rate: 0.00030 keep: 0.500 accuracy train: 0.828 valid: 0.777\n",
      "EPOCH [5] ... rate: 0.00030 keep: 0.500 accuracy train: 0.860 valid: 0.805\n",
      "EPOCH [6] ... rate: 0.00030 keep: 0.500 accuracy train: 0.880 valid: 0.838\n",
      "EPOCH [7] ... rate: 0.00030 keep: 0.500 accuracy train: 0.896 valid: 0.832\n",
      "EPOCH [8] ... rate: 0.00030 keep: 0.500 accuracy train: 0.912 valid: 0.859\n",
      "EPOCH [9] ... rate: 0.00030 keep: 0.500 accuracy train: 0.924 valid: 0.873\n",
      "EPOCH [10] ... rate: 0.00030 keep: 0.500 accuracy train: 0.931 valid: 0.865\n",
      "EPOCH [11] ... rate: 0.00030 keep: 0.500 accuracy train: 0.937 valid: 0.870\n",
      "EPOCH [12] ... rate: 0.00030 keep: 0.500 accuracy train: 0.948 valid: 0.894\n",
      "EPOCH [13] ... rate: 0.00030 keep: 0.500 accuracy train: 0.952 valid: 0.880\n",
      "EPOCH [14] ... rate: 0.00030 keep: 0.500 accuracy train: 0.955 valid: 0.899\n",
      "EPOCH [15] ... rate: 0.00030 keep: 0.500 accuracy train: 0.959 valid: 0.898\n",
      "EPOCH [16] ... rate: 0.00030 keep: 0.500 accuracy train: 0.962 valid: 0.898\n",
      "EPOCH [17] ... rate: 0.00030 keep: 0.500 accuracy train: 0.964 valid: 0.903\n",
      "EPOCH [18] ... rate: 0.00030 keep: 0.500 accuracy train: 0.967 valid: 0.904\n",
      "EPOCH [19] ... rate: 0.00030 keep: 0.500 accuracy train: 0.970 valid: 0.903\n",
      "EPOCH [20] ... rate: 0.00030 keep: 0.500 accuracy train: 0.973 valid: 0.905\n",
      "EPOCH [21] ... rate: 0.00030 keep: 0.500 accuracy train: 0.973 valid: 0.909\n",
      "EPOCH [22] ... rate: 0.00030 keep: 0.500 accuracy train: 0.976 valid: 0.910\n",
      "EPOCH [23] ... rate: 0.00030 keep: 0.500 accuracy train: 0.977 valid: 0.912\n",
      "EPOCH [24] ... rate: 0.00030 keep: 0.500 accuracy train: 0.980 valid: 0.917\n",
      "EPOCH [25] ... rate: 0.00030 keep: 0.500 accuracy train: 0.981 valid: 0.923\n",
      "EPOCH [26] ... rate: 0.00030 keep: 0.500 accuracy train: 0.982 valid: 0.915\n",
      "EPOCH [27] ... rate: 0.00030 keep: 0.500 accuracy train: 0.980 valid: 0.918\n",
      "EPOCH [28] ... rate: 0.00030 keep: 0.500 accuracy train: 0.984 valid: 0.920\n",
      "EPOCH [29] ... rate: 0.00030 keep: 0.500 accuracy train: 0.985 valid: 0.922\n",
      "EPOCH [30] ... rate: 0.00030 keep: 0.500 accuracy train: 0.986 valid: 0.923\n",
      "EPOCH [31] ... rate: 0.00030 keep: 0.500 accuracy train: 0.987 valid: 0.928\n",
      "EPOCH [32] ... rate: 0.00030 keep: 0.500 accuracy train: 0.988 valid: 0.923\n",
      "EPOCH [33] ... rate: 0.00030 keep: 0.500 accuracy train: 0.987 valid: 0.925\n",
      "EPOCH [34] ... rate: 0.00030 keep: 0.500 accuracy train: 0.988 valid: 0.926\n",
      "EPOCH [35] ... rate: 0.00030 keep: 0.500 accuracy train: 0.989 valid: 0.921\n",
      "EPOCH [36] ... rate: 0.00030 keep: 0.500 accuracy train: 0.990 valid: 0.930\n",
      "EPOCH [37] ... rate: 0.00030 keep: 0.500 accuracy train: 0.990 valid: 0.930\n",
      "EPOCH [38] ... rate: 0.00030 keep: 0.500 accuracy train: 0.991 valid: 0.929\n",
      "EPOCH [39] ... rate: 0.00030 keep: 0.500 accuracy train: 0.991 valid: 0.932\n",
      "EPOCH [40] ... rate: 0.00030 keep: 0.500 accuracy train: 0.992 valid: 0.933\n",
      "EPOCH [41] ... rate: 0.00030 keep: 0.500 accuracy train: 0.992 valid: 0.932\n",
      "EPOCH [42] ... rate: 0.00030 keep: 0.500 accuracy train: 0.992 valid: 0.933\n",
      "EPOCH [43] ... rate: 0.00030 keep: 0.500 accuracy train: 0.992 valid: 0.929\n",
      "EPOCH [44] ... rate: 0.00030 keep: 0.500 accuracy train: 0.993 valid: 0.934\n",
      "EPOCH [45] ... rate: 0.00030 keep: 0.500 accuracy train: 0.993 valid: 0.927\n",
      "EPOCH [46] ... rate: 0.00030 keep: 0.500 accuracy train: 0.994 valid: 0.937\n",
      "EPOCH [47] ... rate: 0.00030 keep: 0.500 accuracy train: 0.993 valid: 0.934\n",
      "EPOCH [48] ... rate: 0.00030 keep: 0.500 accuracy train: 0.994 valid: 0.942\n",
      "EPOCH [49] ... rate: 0.00030 keep: 0.500 accuracy train: 0.994 valid: 0.933\n",
      "EPOCH [50] ... rate: 0.00030 keep: 0.500 accuracy train: 0.994 valid: 0.939\n",
      "Model saved\n"
     ]
    },
    {
     "data": {
      "image/png": "[encoded data removed]",
      "text/plain": [
       "<matplotlib.figure.Figure at 0x1581ae2b0>"
      ]
     },
     "metadata": {},
     "output_type": "display_data"
    },
    {
     "name": "stdout",
     "output_type": "stream",
     "text": [
      "Test accuracy = 0.914\n",
      "CPU times: user 1h 19min 22s, sys: 12min 41s, total: 1h 32min 3s\n",
      "Wall time: 18min 6s\n"
     ]
    }
   ],
   "source": [
    "%%time\n",
    "### Train your model here.\n",
    "### Calculate and report the accuracy on the training and validation set.\n",
    "### Once a final model architecture is selected, \n",
    "### the accuracy on the test set should be calculated and reported as well.\n",
    "### Feel free to use as many code cells as needed.\n",
    "\n",
    "#keep_prob = 0.7\n",
    "KEEP_PROB_MAX = 0.5\n",
    "KEEP_PROB_MIN = 0.5\n",
    "#rate = 0.0003 #0.001\n",
    "RATE_MAX = 0.0003\n",
    "RATE_MIN = 0.0003\n",
    "EPOCHS = 50 #10\n",
    "#BATCH_SIZE = 192 #128\n",
    "\n",
    "accuracy_train = np.zeros(EPOCHS)\n",
    "accuracy_valid = np.zeros(EPOCHS)\n",
    "accuracy_target= np.full(EPOCHS, 0.93)\n",
    "\n",
    "with tf.Session() as sess:\n",
    "    sess.run(tf.global_variables_initializer())\n",
    "    num_examples = len(X_train)\n",
    "    \n",
    "    keep_prob_step = (KEEP_PROB_MAX - KEEP_PROB_MIN) / EPOCHS\n",
    "    rate_step = (RATE_MAX - RATE_MIN) / EPOCHS\n",
    "    rate = RATE_MAX\n",
    "    keep_prob = KEEP_PROB_MIN\n",
    "    \n",
    "    print(\"Training...\")\n",
    "    for i in range(EPOCHS):\n",
    "        X_train, y_train = sklearn.utils.shuffle(X_train, y_train)\n",
    "        for offset in range(0, num_examples, BATCH_SIZE):\n",
    "            end = offset + BATCH_SIZE\n",
    "            batch_x, batch_y = X_train[offset:end], y_train[offset:end]\n",
    "            sess.run(training_operation, feed_dict={x: batch_x, y: batch_y})\n",
    "            \n",
    "        accuracy_train[i] = evaluate(X_train, y_train)\n",
    "        accuracy_valid[i] = evaluate(X_valid, y_valid)\n",
    "        print(\"EPOCH [{}] ... rate: {:.5f} keep: {:.3f} accuracy train: {:.3f} valid: {:.3f}\".format(i+1, rate, keep_prob, accuracy_train[i], accuracy_valid[i]))\n",
    "        rate -= rate_step\n",
    "        keep_prob += keep_prob_step\n",
    "        \n",
    "    saver.save(sess, './TrafSignClass')\n",
    "    print(\"Model saved\")\n",
    "    \n",
    "    plt.plot(accuracy_valid)\n",
    "    plt.plot(accuracy_train)\n",
    "    plt.plot(accuracy_target)\n",
    "    plt.xlabel(\"epoch\")\n",
    "    plt.ylabel(\"accuracy\")\n",
    "    plt.grid(True)\n",
    "    plt.show()\n",
    "        \n",
    "    test_accuracy = evaluate(X_test, y_test)\n",
    "    print(\"Test accuracy = {:.3f}\".format(test_accuracy))\n"
   ]
  },
  {
   "cell_type": "markdown",
   "metadata": {},
   "source": [
    "---\n",
    "\n",
    "## Step 3: Test a Model on New Images\n",
    "\n",
    "To give yourself more insight into how your model is working, download at least five pictures of German traffic signs from the web and use your model to predict the traffic sign type.\n",
    "\n",
    "You may find `signnames.csv` useful as it contains mappings from the class id (integer) to the actual sign name."
   ]
  },
  {
   "cell_type": "markdown",
   "metadata": {},
   "source": [
    "### Load and Output the Images"
   ]
  },
  {
   "cell_type": "code",
   "execution_count": 8,
   "metadata": {},
   "outputs": [
    {
     "name": "stdout",
     "output_type": "stream",
     "text": [
      "y_new: [ 5 12 14  2 18 25 15 13]\n"
     ]
    },
    {
     "data": {
      "image/png": "[encoded data removed]",
      "text/plain": [
       "<matplotlib.figure.Figure at 0x121966b38>"
      ]
     },
     "metadata": {},
     "output_type": "display_data"
    }
   ],
   "source": [
    "### Load the images and plot them here.\n",
    "### Feel free to use as many code cells as needed.\n",
    "import glob\n",
    "import matplotlib.image as mpimg\n",
    "\n",
    "imgnames = glob.glob(\"new-traffic-signs-data/*.jpg\")\n",
    "X_new_rgb = np.array([mpimg.imread(fname) for fname in imgnames])\n",
    "X_new = toGrayscale(X_new_rgb)\n",
    "y_new = np.array([int(fname.split('_')[1].split('.')[0]) for fname in imgnames], dtype=np.uint8)\n",
    "\n",
    "print(\"y_new:\", y_new[:8])\n",
    "\n",
    "f, axarr = plt.subplots(1, 8) #len(imgnames))\n",
    "for i in range(8): #len(imgnames)):\n",
    "    axarr[i].imshow(X_new[i].squeeze(), cmap=\"gray\")\n"
   ]
  },
  {
   "cell_type": "markdown",
   "metadata": {},
   "source": [
    "### Predict the Sign Type for Each Image"
   ]
  },
  {
   "cell_type": "code",
   "execution_count": 13,
   "metadata": {},
   "outputs": [
    {
     "name": "stdout",
     "output_type": "stream",
     "text": [
      "INFO:tensorflow:Restoring parameters from ./TrafSignClass\n",
      "X_new.shape: (14, 32, 32, 1)   dtype: float32\n",
      "y_new.shape: (14,)   dtype: uint8\n",
      "one_hot_y_new: Tensor(\"one_hot_5:0\", shape=(14, 43), dtype=float32)\n",
      "new_accuracy: 0.0\n",
      "probs: [[ 0.11479589  0.09001314  0.07313775  0.04693128  0.03553323]\n",
      " [ 0.07554664  0.0676324   0.0584809   0.03453523  0.03430578]\n",
      " [ 0.08303443  0.07918973  0.05825508  0.04181649  0.03671103]\n",
      " [ 0.10716183  0.0948992   0.06964082  0.03854737  0.03765954]\n",
      " [ 0.1109654   0.06963961  0.04855507  0.03785533  0.03762431]\n",
      " [ 0.07453605  0.06607164  0.04705058  0.03811136  0.03289189]\n",
      " [ 0.0950862   0.08493916  0.05270862  0.03943141  0.03791818]\n",
      " [ 0.08073773  0.06274165  0.0537827   0.03607288  0.03368078]\n",
      " [ 0.07813101  0.0674199   0.04178775  0.03957231  0.03751491]\n",
      " [ 0.09989555  0.08199803  0.0728428   0.04344     0.04197584]\n",
      " [ 0.07839566  0.06478939  0.05388846  0.05288007  0.0365703 ]\n",
      " [ 0.07505658  0.05486095  0.0481143   0.03704707  0.03444305]\n",
      " [ 0.05912182  0.05260884  0.0487828   0.03587856  0.03195212]\n",
      " [ 0.07849571  0.06879791  0.0515774   0.03728762  0.03547342]]\n",
      "predictions: [[30 31 28  9 20]\n",
      " [30 31 28 12  8]\n",
      " [30 31 28 20 41]\n",
      " [31 30 28  8 20]\n",
      " [30 31 28  8 36]\n",
      " [31 30 28 20  8]\n",
      " [30 31 28  8  9]\n",
      " [30 31 28 20 21]\n",
      " [30 31  9 28 41]\n",
      " [31 30 28  8  9]\n",
      " [31 30 28  9 20]\n",
      " [30 31 28  9  8]\n",
      " [30 31 28 20  9]\n",
      " [31 30 28 20 40]]\n",
      "predicted_lables: [30 30 30 31 30 31 30 30 30 31 31 30 30 31]\n",
      "           y_new: [ 5 12 14  2 18 25 15 13 40  4  1 15 17 23]\n"
     ]
    }
   ],
   "source": [
    "### Run the predictions here and use the model to output the prediction for each image.\n",
    "### Make sure to pre-process the images with the same pre-processing pipeline used earlier.\n",
    "### Feel free to use as many code cells as needed.\n",
    "\n",
    "BATCH_SIZE = 192\n",
    "x = tf.placeholder(tf.float32, (None, 32, 32, 1), name=\"x1\")\n",
    "one_hot_y_new = tf.one_hot(y_new, 43)\n",
    "\n",
    "logits_new = TrafficSignClassifier(x, 1.0)\n",
    "softmax_new = tf.nn.softmax(logits_new)\n",
    "\n",
    "correct_prediction_new = tf.equal(tf.argmax(logits_new, 1), tf.argmax(one_hot_y_new, 1))\n",
    "accuracy_operation_new = tf.reduce_mean(tf.cast(correct_prediction_new, tf.float32))\n",
    "\n",
    "def evaluate_new(X_data, y_data):\n",
    "    num_examples = len(X_data)\n",
    "    total_accuracy = 0\n",
    "    sess_new = tf.get_default_session()\n",
    "    accuracy_new = sess_new.run(accuracy_operation_new, feed_dict={x: X_data, y: y_data})\n",
    "    return accuracy_new\n",
    "\n",
    "with tf.Session() as sess_new:\n",
    "    sess_new.run(tf.global_variables_initializer())\n",
    "    saver_new = tf.train.import_meta_graph('./TrafSignClass.meta')\n",
    "    saver_new.restore(sess_new, tf.train.latest_checkpoint('./'))\n",
    "    keep_prob = 1.\n",
    "    print(\"X_new.shape:\", X_new.shape, \"  dtype:\", X_new.dtype)\n",
    "    print(\"y_new.shape:\", y_new.shape, \"  dtype:\", y_new.dtype)\n",
    "    \n",
    "    new_accuracy = evaluate_new(X_new, y_new)\n",
    "    print(\"one_hot_y_new:\", one_hot_y_new)\n",
    "    print(\"new_accuracy:\", new_accuracy)\n",
    "\n",
    "    result = sess_new.run(softmax_new, feed_dict={x: X_new})\n",
    "    values, indices = tf.nn.top_k(result, 5)\n",
    "    probs = sess_new.run(values)\n",
    "    predictions = sess_new.run(indices)\n",
    "\n",
    "    print(\"probs:\", probs)\n",
    "    print(\"predictions:\", predictions)\n",
    "    \n",
    "    predicted_logits = sess_new.run(logits_new, feed_dict={x: X_new})\n",
    "    predicted_labels = np.argmax(predicted_logits, axis=1)\n",
    "    print(\"predicted_lables:\", predicted_labels)\n",
    "    print(\"           y_new:\", y_new)"
   ]
  },
  {
   "cell_type": "markdown",
   "metadata": {},
   "source": [
    "### Analyze Performance"
   ]
  },
  {
   "cell_type": "code",
   "execution_count": 10,
   "metadata": {},
   "outputs": [
    {
     "name": "stdout",
     "output_type": "stream",
     "text": [
      "Correct prediction: 0 out of 14 new traffic signs\n"
     ]
    }
   ],
   "source": [
    "### Calculate the accuracy for these 5 new images. \n",
    "### For example, if the model predicted 1 out of 5 signs correctly, it's 20% accurate on these new images.\n",
    "print(\"Correct prediction: {:.0f} out of {:d} new traffic signs\".format(new_accuracy * len(y_new), len(y_new)))\n"
   ]
  },
  {
   "cell_type": "markdown",
   "metadata": {},
   "source": [
    "### Output Top 5 Softmax Probabilities For Each Image Found on the Web"
   ]
  },
  {
   "cell_type": "markdown",
   "metadata": {},
   "source": [
    "For each of the new images, print out the model's softmax probabilities to show the **certainty** of the model's predictions (limit the output to the top 5 probabilities for each image). [`tf.nn.top_k`](https://www.tensorflow.org/versions/r0.12/api_docs/python/nn.html#top_k) could prove helpful here. \n",
    "\n",
    "The example below demonstrates how tf.nn.top_k can be used to find the top k predictions for each image.\n",
    "\n",
    "`tf.nn.top_k` will return the values and indices (class ids) of the top k predictions. So if k=3, for each sign, it'll return the 3 largest probabilities (out of a possible 43) and the correspoding class ids.\n",
    "\n",
    "Take this numpy array as an example. The values in the array represent predictions. The array contains softmax probabilities for five candidate images with six possible classes. `tk.nn.top_k` is used to choose the three classes with the highest probability:\n",
    "\n",
    "```\n",
    "# (5, 6) array\n",
    "a = np.array([[ 0.24879643,  0.07032244,  0.12641572,  0.34763842,  0.07893497,\n",
    "         0.12789202],\n",
    "       [ 0.28086119,  0.27569815,  0.08594638,  0.0178669 ,  0.18063401,\n",
    "         0.15899337],\n",
    "       [ 0.26076848,  0.23664738,  0.08020603,  0.07001922,  0.1134371 ,\n",
    "         0.23892179],\n",
    "       [ 0.11943333,  0.29198961,  0.02605103,  0.26234032,  0.1351348 ,\n",
    "         0.16505091],\n",
    "       [ 0.09561176,  0.34396535,  0.0643941 ,  0.16240774,  0.24206137,\n",
    "         0.09155967]])\n",
    "```\n",
    "\n",
    "Running it through `sess.run(tf.nn.top_k(tf.constant(a), k=3))` produces:\n",
    "\n",
    "```\n",
    "TopKV2(values=array([[ 0.34763842,  0.24879643,  0.12789202],\n",
    "       [ 0.28086119,  0.27569815,  0.18063401],\n",
    "       [ 0.26076848,  0.23892179,  0.23664738],\n",
    "       [ 0.29198961,  0.26234032,  0.16505091],\n",
    "       [ 0.34396535,  0.24206137,  0.16240774]]), indices=array([[3, 0, 5],\n",
    "       [0, 1, 4],\n",
    "       [0, 5, 1],\n",
    "       [1, 3, 5],\n",
    "       [1, 4, 3]], dtype=int32))\n",
    "```\n",
    "\n",
    "Looking just at the first row we get `[ 0.34763842,  0.24879643,  0.12789202]`, you can confirm these are the 3 largest probabilities in `a`. You'll also notice `[3, 0, 5]` are the corresponding indices."
   ]
  },
  {
   "cell_type": "code",
   "execution_count": 11,
   "metadata": {},
   "outputs": [
    {
     "name": "stdout",
     "output_type": "stream",
     "text": [
      "probsabilities:\n",
      " [[ 0.057385    0.04733979  0.04149077  0.03854312  0.03737504]\n",
      " [ 0.03419662  0.03230834  0.03114077  0.03071012  0.03000258]\n",
      " [ 0.0442376   0.04026229  0.03745275  0.03645371  0.03607933]\n",
      " [ 0.03810846  0.03755331  0.03726032  0.03680714  0.03305548]\n",
      " [ 0.04838182  0.03897345  0.03760848  0.0369416   0.0358212 ]\n",
      " [ 0.03768821  0.03639396  0.03590452  0.03542726  0.03355024]\n",
      " [ 0.03799011  0.0341581   0.03315685  0.03156658  0.03096086]\n",
      " [ 0.04463065  0.04129598  0.03998173  0.03443182  0.03340981]\n",
      " [ 0.04868525  0.04027541  0.03892897  0.03806842  0.03632513]\n",
      " [ 0.04088181  0.04000453  0.03885859  0.03770008  0.03665502]\n",
      " [ 0.05255947  0.03947814  0.03477024  0.03439272  0.03387179]\n",
      " [ 0.04271264  0.03626909  0.03231034  0.03092273  0.03076543]\n",
      " [ 0.04009722  0.03665727  0.03194338  0.03187742  0.029897  ]\n",
      " [ 0.05638939  0.04160202  0.03990688  0.03944428  0.03611586]]\n",
      "predictions:\n",
      " [[42  7 22 24 41]\n",
      " [17 13  1  7 42]\n",
      " [17  7  0 27 21]\n",
      " [ 6  7 22 42 12]\n",
      " [21 22  7 17 41]\n",
      " [17 12 16 22  7]\n",
      " [17  7 24  6  2]\n",
      " [42  6 22 13 17]\n",
      " [42 13  7 21  6]\n",
      " [41  6 22 17  2]\n",
      " [42 13 27 22  6]\n",
      " [17  0 13  7 27]\n",
      " [27 13 42 22 21]\n",
      " [42 22 27  6 13]]\n"
     ]
    }
   ],
   "source": [
    "### Print out the top five softmax probabilities for the predictions on the German traffic sign images found on the web. \n",
    "### Feel free to use as many code cells as needed.\n",
    "print(\"probsabilities:\\n\", probs)\n",
    "print(\"predictions:\\n\", predictions)\n"
   ]
  },
  {
   "cell_type": "markdown",
   "metadata": {},
   "source": [
    "### Project Writeup\n",
    "\n",
    "Once you have completed the code implementation, document your results in a project writeup using this [template](https://github.com/udacity/CarND-Traffic-Sign-Classifier-Project/blob/master/writeup_template.md) as a guide. The writeup can be in a markdown or pdf file. "
   ]
  },
  {
   "cell_type": "markdown",
   "metadata": {},
   "source": [
    "> **Note**: Once you have completed all of the code implementations and successfully answered each question above, you may finalize your work by exporting the iPython Notebook as an HTML document. You can do this by using the menu above and navigating to  \\n\",\n",
    "    \"**File -> Download as -> HTML (.html)**. Include the finished document along with this notebook as your submission."
   ]
  },
  {
   "cell_type": "markdown",
   "metadata": {},
   "source": [
    "---\n",
    "\n",
    "## Step 4 (Optional): Visualize the Neural Network's State with Test Images\n",
    "\n",
    " This Section is not required to complete but acts as an additional excersise for understaning the output of a neural network's weights. While neural networks can be a great learning device they are often referred to as a black box. We can understand what the weights of a neural network look like better by plotting their feature maps. After successfully training your neural network you can see what it's feature maps look like by plotting the output of the network's weight layers in response to a test stimuli image. From these plotted feature maps, it's possible to see what characteristics of an image the network finds interesting. For a sign, maybe the inner network feature maps react with high activation to the sign's boundary outline or to the contrast in the sign's painted symbol.\n",
    "\n",
    " Provided for you below is the function code that allows you to get the visualization output of any tensorflow weight layer you want. The inputs to the function should be a stimuli image, one used during training or a new one you provided, and then the tensorflow variable name that represents the layer's state during the training process, for instance if you wanted to see what the [LeNet lab's](https://classroom.udacity.com/nanodegrees/nd013/parts/fbf77062-5703-404e-b60c-95b78b2f3f9e/modules/6df7ae49-c61c-4bb2-a23e-6527e69209ec/lessons/601ae704-1035-4287-8b11-e2c2716217ad/concepts/d4aca031-508f-4e0b-b493-e7b706120f81) feature maps looked like for it's second convolutional layer you could enter conv2 as the tf_activation variable.\n",
    "\n",
    "For an example of what feature map outputs look like, check out NVIDIA's results in their paper [End-to-End Deep Learning for Self-Driving Cars](https://devblogs.nvidia.com/parallelforall/deep-learning-self-driving-cars/) in the section Visualization of internal CNN State. NVIDIA was able to show that their network's inner weights had high activations to road boundary lines by comparing feature maps from an image with a clear path to one without. Try experimenting with a similar test to show that your trained network's weights are looking for interesting features, whether it's looking at differences in feature maps from images with or without a sign, or even what feature maps look like in a trained network vs a completely untrained one on the same sign image.\n",
    "\n",
    "<figure>\n",
    " <img src=\"visualize_cnn.png\" width=\"380\" alt=\"Combined Image\" />\n",
    " <figcaption>\n",
    " <p></p> \n",
    " <p style=\"text-align: center;\"> Your output should look something like this (above)</p> \n",
    " </figcaption>\n",
    "</figure>\n",
    " <p></p> \n"
   ]
  },
  {
   "cell_type": "code",
   "execution_count": null,
   "metadata": {
    "collapsed": true
   },
   "outputs": [],
   "source": [
    "### Visualize your network's feature maps here.\n",
    "### Feel free to use as many code cells as needed.\n",
    "\n",
    "# image_input: the test image being fed into the network to produce the feature maps\n",
    "# tf_activation: should be a tf variable name used during your training procedure that represents the calculated state of a specific weight layer\n",
    "# activation_min/max: can be used to view the activation contrast in more detail, by default matplot sets min and max to the actual min and max values of the output\n",
    "# plt_num: used to plot out multiple different weight feature map sets on the same block, just extend the plt number for each new feature map entry\n",
    "\n",
    "def outputFeatureMap(image_input, tf_activation, activation_min=-1, activation_max=-1 ,plt_num=1):\n",
    "    # Here make sure to preprocess your image_input in a way your network expects\n",
    "    # with size, normalization, ect if needed\n",
    "    # image_input =\n",
    "    # Note: x should be the same name as your network's tensorflow data placeholder variable\n",
    "    # If you get an error tf_activation is not defined it may be having trouble accessing the variable from inside a function\n",
    "    activation = tf_activation.eval(session=sess,feed_dict={x : image_input})\n",
    "    featuremaps = activation.shape[3]\n",
    "    plt.figure(plt_num, figsize=(15,15))\n",
    "    for featuremap in range(featuremaps):\n",
    "        plt.subplot(6,8, featuremap+1) # sets the number of feature maps to show on each row and column\n",
    "        plt.title('FeatureMap ' + str(featuremap)) # displays the feature map number\n",
    "        if activation_min != -1 & activation_max != -1:\n",
    "            plt.imshow(activation[0,:,:, featuremap], interpolation=\"nearest\", vmin =activation_min, vmax=activation_max, cmap=\"gray\")\n",
    "        elif activation_max != -1:\n",
    "            plt.imshow(activation[0,:,:, featuremap], interpolation=\"nearest\", vmax=activation_max, cmap=\"gray\")\n",
    "        elif activation_min !=-1:\n",
    "            plt.imshow(activation[0,:,:, featuremap], interpolation=\"nearest\", vmin=activation_min, cmap=\"gray\")\n",
    "        else:\n",
    "            plt.imshow(activation[0,:,:, featuremap], interpolation=\"nearest\", cmap=\"gray\")"
   ]
  }
 ],
 "metadata": {
  "anaconda-cloud": {},
  "kernelspec": {
   "display_name": "Python 3",
   "language": "python",
   "name": "python3"
  },
  "language_info": {
   "codemirror_mode": {
    "name": "ipython",
    "version": 3
   },
   "file_extension": ".py",
   "mimetype": "text/x-python",
   "name": "python",
   "nbconvert_exporter": "python",
   "pygments_lexer": "ipython3",
   "version": "3.5.3"
  },
  "widgets": {
   "state": {},
   "version": "1.1.2"
  }
 },
 "nbformat": 4,
 "nbformat_minor": 1
}
