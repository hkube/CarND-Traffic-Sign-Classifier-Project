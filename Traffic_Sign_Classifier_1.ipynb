{
 "cells": [
  {
   "cell_type": "markdown",
   "metadata": {},
   "source": [
    "# Self-Driving Car Engineer Nanodegree\n",
    "\n",
    "## Deep Learning\n",
    "\n",
    "## Project: Build a Traffic Sign Recognition Classifier\n",
    "\n",
    "In this notebook, a template is provided for you to implement your functionality in stages, which is required to successfully complete this project. If additional code is required that cannot be included in the notebook, be sure that the Python code is successfully imported and included in your submission if necessary. \n",
    "\n",
    "> **Note**: Once you have completed all of the code implementations, you need to finalize your work by exporting the iPython Notebook as an HTML document. Before exporting the notebook to html, all of the code cells need to have been run so that reviewers can see the final implementation and output. You can then export the notebook by using the menu above and navigating to  \\n\",\n",
    "    \"**File -> Download as -> HTML (.html)**. Include the finished document along with this notebook as your submission. \n",
    "\n",
    "In addition to implementing code, there is a writeup to complete. The writeup should be completed in a separate file, which can be either a markdown file or a pdf document. There is a [write up template](https://github.com/udacity/CarND-Traffic-Sign-Classifier-Project/blob/master/writeup_template.md) that can be used to guide the writing process. Completing the code template and writeup template will cover all of the [rubric points](https://review.udacity.com/#!/rubrics/481/view) for this project.\n",
    "\n",
    "The [rubric](https://review.udacity.com/#!/rubrics/481/view) contains \"Stand Out Suggestions\" for enhancing the project beyond the minimum requirements. The stand out suggestions are optional. If you decide to pursue the \"stand out suggestions\", you can include the code in this Ipython notebook and also discuss the results in the writeup file.\n",
    "\n",
    "\n",
    ">**Note:** Code and Markdown cells can be executed using the **Shift + Enter** keyboard shortcut. In addition, Markdown cells can be edited by typically double-clicking the cell to enter edit mode."
   ]
  },
  {
   "cell_type": "markdown",
   "metadata": {},
   "source": [
    "---\n",
    "## Step 0: Load The Data"
   ]
  },
  {
   "cell_type": "code",
   "execution_count": 1,
   "metadata": {
    "collapsed": true
   },
   "outputs": [],
   "source": [
    "# Load pickled data\n",
    "import pickle\n",
    "\n",
    "# TODO: Fill this in based on where you saved the training and testing data\n",
    "\n",
    "training_file = \"traffic-signs-data/train.p\"\n",
    "validation_file=\"traffic-signs-data/valid.p\"\n",
    "testing_file =  \"traffic-signs-data/test.p\"\n",
    "\n",
    "with open(training_file, mode='rb') as f:\n",
    "    train = pickle.load(f)\n",
    "with open(validation_file, mode='rb') as f:\n",
    "    valid = pickle.load(f)\n",
    "with open(testing_file, mode='rb') as f:\n",
    "    test = pickle.load(f)\n",
    "    \n",
    "X_train_rgb, y_train = train['features'], train['labels']\n",
    "X_valid_rgb, y_valid = valid['features'], valid['labels']\n",
    "X_test_rgb, y_test = test['features'], test['labels']\n",
    "\n",
    "# Limit the size of the training data set\n",
    "if False:\n",
    "    limitedDataSetSize = 100\n",
    "    X_train_rgb = X_train_rgb[:limitedDataSetSize]\n",
    "    y_train     = y_train[:limitedDataSetSize]\n",
    "    X_valid_rgb = X_valid_rgb[:limitedDataSetSize] # // 10]\n",
    "    y_valid     = y_valid[:limitedDataSetSize] # // 10]\n",
    "\n",
    "\n",
    "assert(len(X_train_rgb) == len(y_train))\n",
    "assert(len(X_valid_rgb) == len(y_valid))\n",
    "assert(len(X_test_rgb)  == len(y_test))"
   ]
  },
  {
   "cell_type": "markdown",
   "metadata": {},
   "source": [
    "---\n",
    "\n",
    "## Step 1: Dataset Summary & Exploration\n",
    "\n",
    "The pickled data is a dictionary with 4 key/value pairs:\n",
    "\n",
    "- `'features'` is a 4D array containing raw pixel data of the traffic sign images, (num examples, width, height, channels).\n",
    "- `'labels'` is a 1D array containing the label/class id of the traffic sign. The file `signnames.csv` contains id -> name mappings for each id.\n",
    "- `'sizes'` is a list containing tuples, (width, height) representing the original width and height the image.\n",
    "- `'coords'` is a list containing tuples, (x1, y1, x2, y2) representing coordinates of a bounding box around the sign in the image. **THESE COORDINATES ASSUME THE ORIGINAL IMAGE. THE PICKLED DATA CONTAINS RESIZED VERSIONS (32 by 32) OF THESE IMAGES**\n",
    "\n",
    "Complete the basic data summary below. Use python, numpy and/or pandas methods to calculate the data summary rather than hard coding the results. For example, the [pandas shape method](http://pandas.pydata.org/pandas-docs/stable/generated/pandas.DataFrame.shape.html) might be useful for calculating some of the summary results. "
   ]
  },
  {
   "cell_type": "markdown",
   "metadata": {},
   "source": [
    "### Provide a Basic Summary of the Data Set Using Python, Numpy and/or Pandas"
   ]
  },
  {
   "cell_type": "code",
   "execution_count": 3,
   "metadata": {},
   "outputs": [
    {
     "name": "stdout",
     "output_type": "stream",
     "text": [
      "X_train.shape: (34799, 32, 32, 3)\n",
      "Number of training examples = 34799 / 34799\n",
      "Number of validation examples = 4410 / 4410\n",
      "Number of testing examples = 12630\n",
      "Image data shape = (32, 32, 3)\n",
      "Number of classes = 43\n"
     ]
    }
   ],
   "source": [
    "### Replace each question mark with the appropriate value. \n",
    "### Use python, pandas or numpy methods rather than hard coding the results\n",
    "import numpy as np\n",
    "\n",
    "# TODO: Number of training examples\n",
    "n_train = len(X_train_rgb)\n",
    "\n",
    "# TODO: Number of validation examples\n",
    "n_validation = len(X_valid_rgb)\n",
    "\n",
    "# TODO: Number of testing examples.\n",
    "n_test = len(X_test_rgb)\n",
    "\n",
    "# TODO: What's the shape of an traffic sign image?\n",
    "image_shape = X_train_rgb[0].shape\n",
    "\n",
    "# TODO: How many unique classes/labels there are in the dataset.\n",
    "n_classes = len(np.unique(y_test))\n",
    "\n",
    "print(\"X_train.shape:\", X_train_rgb.shape)\n",
    "print(\"Number of training examples =\", n_train, \"/\", len(y_train))\n",
    "print(\"Number of validation examples =\", n_validation, \"/\", len(y_valid))\n",
    "print(\"Number of testing examples =\", n_test)\n",
    "print(\"Image data shape =\", image_shape)\n",
    "print(\"Number of classes =\", n_classes)"
   ]
  },
  {
   "cell_type": "markdown",
   "metadata": {},
   "source": [
    "### Include an exploratory visualization of the dataset"
   ]
  },
  {
   "cell_type": "markdown",
   "metadata": {},
   "source": [
    "Visualize the German Traffic Signs Dataset using the pickled file(s). This is open ended, suggestions include: plotting traffic sign images, plotting the count of each sign, etc. \n",
    "\n",
    "The [Matplotlib](http://matplotlib.org/) [examples](http://matplotlib.org/examples/index.html) and [gallery](http://matplotlib.org/gallery.html) pages are a great resource for doing visualizations in Python.\n",
    "\n",
    "**NOTE:** It's recommended you start with something simple first. If you wish to do more, come back to it after you've completed the rest of the sections. It can be interesting to look at the distribution of classes in the training, validation and test set. Is the distribution the same? Are there more examples of some classes than others?"
   ]
  },
  {
   "cell_type": "code",
   "execution_count": 4,
   "metadata": {},
   "outputs": [
    {
     "data": {
      "image/png": "[encoded data removed]",
      "text/plain": [
       "<matplotlib.figure.Figure at 0x7f24efa83278>"
      ]
     },
     "metadata": {},
     "output_type": "display_data"
    }
   ],
   "source": [
    "### Data exploration visualization code goes here.\n",
    "### Feel free to use as many code cells as needed.\n",
    "import matplotlib.pyplot as plt\n",
    "# Visualizations will be shown in the notebook.\n",
    "%matplotlib inline\n",
    "\n",
    "#imgPane = plt.figure(\"Training data examples\", figsize=(1,1)) #1, (10., 10.))\n",
    "#plt.figure(figsize=(1,1))\n",
    "#grid = ImageGrid(imgPane, 111, nrows_ncols=(2), 2), axes_pad=0.1)\n",
    "f, axarr = plt.subplots(1, 8)\n",
    "for i in range(8):\n",
    "    axarr[i].imshow(X_train_rgb[i].squeeze())"
   ]
  },
  {
   "cell_type": "markdown",
   "metadata": {},
   "source": [
    "----\n",
    "\n",
    "## Step 2: Design and Test a Model Architecture\n",
    "\n",
    "Design and implement a deep learning model that learns to recognize traffic signs. Train and test your model on the [German Traffic Sign Dataset](http://benchmark.ini.rub.de/?section=gtsrb&subsection=dataset).\n",
    "\n",
    "The LeNet-5 implementation shown in the [classroom](https://classroom.udacity.com/nanodegrees/nd013/parts/fbf77062-5703-404e-b60c-95b78b2f3f9e/modules/6df7ae49-c61c-4bb2-a23e-6527e69209ec/lessons/601ae704-1035-4287-8b11-e2c2716217ad/concepts/d4aca031-508f-4e0b-b493-e7b706120f81) at the end of the CNN lesson is a solid starting point. You'll have to change the number of classes and possibly the preprocessing, but aside from that it's plug and play! \n",
    "\n",
    "With the LeNet-5 solution from the lecture, you should expect a validation set accuracy of about 0.89. To meet specifications, the validation set accuracy will need to be at least 0.93. It is possible to get an even higher accuracy, but 0.93 is the minimum for a successful project submission. \n",
    "\n",
    "There are various aspects to consider when thinking about this problem:\n",
    "\n",
    "- Neural network architecture (is the network over or underfitting?)\n",
    "- Play around preprocessing techniques (normalization, rgb to grayscale, etc)\n",
    "- Number of examples per label (some have more than others).\n",
    "- Generate fake data.\n",
    "\n",
    "Here is an example of a [published baseline model on this problem](http://yann.lecun.com/exdb/publis/pdf/sermanet-ijcnn-11.pdf). It's not required to be familiar with the approach used in the paper but, it's good practice to try to read papers like these."
   ]
  },
  {
   "cell_type": "markdown",
   "metadata": {},
   "source": [
    "### Pre-process the Data Set (normalization, grayscale, etc.)"
   ]
  },
  {
   "cell_type": "markdown",
   "metadata": {},
   "source": [
    "Minimally, the image data should be normalized so that the data has mean zero and equal variance. For image data, `(pixel - 128)/ 128` is a quick way to approximately normalize the data and can be used in this project. \n",
    "\n",
    "Other pre-processing steps are optional. You can try different techniques to see if it improves performance. \n",
    "\n",
    "Use the code cell (or multiple code cells, if necessary) to implement the first step of your project."
   ]
  },
  {
   "cell_type": "code",
   "execution_count": 46,
   "metadata": {},
   "outputs": [
    {
     "name": "stdout",
     "output_type": "stream",
     "text": [
      "new_array.shape: (34799, 32, 32, 1)\n",
      "new_array.shape: (4410, 32, 32, 1)\n",
      "new_array.shape: (12630, 32, 32, 1)\n",
      "X_train.shape: (34799, 32, 32, 1)\n",
      "X_valid.shape: (4410, 32, 32, 1)\n",
      "X_test.shape: (12630, 32, 32, 1)\n"
     ]
    },
    {
     "data": {
      "image/png": "[encoded data removed]",
      "text/plain": [
       "<matplotlib.figure.Figure at 0x12e010518>"
      ]
     },
     "metadata": {},
     "output_type": "display_data"
    }
   ],
   "source": [
    "### Preprocess the data here. It is required to normalize the data. Other preprocessing steps could include \n",
    "### converting to grayscale, etc.\n",
    "### Feel free to use as many code cells as needed.\n",
    "from sklearn.utils import shuffle\n",
    "\n",
    "def rgb2gray(rgb):\n",
    "    gray = np.zeros((rgb.shape[0], rgb.shape[1], 1), dtype=np.float32)\n",
    "    gray = np.floor(np.dot(rgb[...,:3].astype(np.float32), [.3, .6, .1]))\n",
    "    return gray\n",
    "\n",
    "def normalize(gray):\n",
    "    return gray.astype(np.float32)/255 - 0.5\n",
    "\n",
    "def hist_equal(gray):\n",
    "    hist   = np.histogram(gray, bins=np.arange(257))[0]\n",
    "    newVal = np.cumsum(hist) / float(np.sum(hist))\n",
    "    equal  = newVal[gray.flatten().astype('int')] - 0.5\n",
    "    equal  = equal.reshape(gray.shape)\n",
    "    return equal\n",
    "\n",
    "def toGrayscale(image_array):\n",
    "    new_array = np.empty([len(image_array), image_shape[0], image_shape[1], 1], dtype=np.float32)\n",
    "    print(\"new_array.shape:\", new_array.shape)\n",
    "    for i in range(len(image_array)):\n",
    "        new_array[i,:,:,0] = hist_equal(rgb2gray(image_array[i]))[:,:]\n",
    "    return new_array\n",
    "\n",
    "X_train = toGrayscale(X_train_rgb)\n",
    "X_valid = toGrayscale(X_valid_rgb)\n",
    "X_test = toGrayscale(X_test_rgb)\n",
    "print(\"X_train.shape:\", X_train.shape)\n",
    "print(\"X_valid.shape:\", X_valid.shape)\n",
    "print(\"X_test.shape:\", X_test.shape)\n",
    "\n",
    "# Shuffle the training data\n",
    "X_train, y_train = shuffle(X_train, y_train)\n",
    "\n",
    "f, axarr = plt.subplots(1, 8)\n",
    "for i in range(8):\n",
    "    axarr[i].imshow(X_train[i].squeeze(), cmap=\"gray\")\n"
   ]
  },
  {
   "cell_type": "markdown",
   "metadata": {},
   "source": [
    "### Model Architecture"
   ]
  },
  {
   "cell_type": "code",
   "execution_count": 14,
   "metadata": {
    "collapsed": true
   },
   "outputs": [],
   "source": [
    "### Define your architecture here.\n",
    "### Feel free to use as many code cells as needed.\n",
    "import tensorflow as tf\n",
    "\n",
    "def TrafficSignClassifier(x):\n",
    "    # Argument for tf.truncated_normal\n",
    "    sigma = 0.1\n",
    "    keep_prob1 = 0.7\n",
    "    keep_prob2 = keep_prob1\n",
    "    \n",
    "    # Declare the weights and biases\n",
    "    W=[None for i in range(5)]\n",
    "    B=[None for i in range(5)]\n",
    "    \n",
    "    ### Layer 1\n",
    "    # Convolutional: input 32x32x1, output 28x28x6\n",
    "    W[0] = tf.Variable(tf.random_normal([5,5,1,6], mean=0, stddev=sigma))\n",
    "    B[0] = tf.Variable(tf.zeros([6]))\n",
    "    o1 = tf.nn.conv2d(x, W[0], strides=[1,1,1,1], padding='VALID') + B[0]\n",
    "    \n",
    "    # Activation\n",
    "    o1 = tf.nn.relu(o1)\n",
    "    \n",
    "    # Dropout\n",
    "    o1 = tf.nn.dropout(o1, keep_prob1)\n",
    "    \n",
    "    # Pooling: input 28x28x6, output 14x14x6\n",
    "    o1 = tf.nn.max_pool(o1, [1,2,2,1], [1,2,2,1], 'VALID')\n",
    "    \n",
    "    ### Layer 2\n",
    "    # Convolutional: input 14x14x6, output 10x10x32 # 10X10X16\n",
    "    W[1] = tf.Variable(tf.random_normal([5,5,6,32], mean=0, stddev=sigma))\n",
    "    B[1] = tf.Variable(tf.zeros([32]))\n",
    "    o2 = tf.nn.conv2d(o1, W[1], strides=[1,1,1,1], padding='VALID') + B[1]\n",
    "    \n",
    "    # Activation\n",
    "    o2 = tf.nn.relu(o2)\n",
    "    \n",
    "    # Dropout\n",
    "    o2 = tf.nn.dropout(o2, keep_prob2)\n",
    "    \n",
    "    # Pooling: input 10x10x32, output 5x5x32\n",
    "    o2 = tf.nn.max_pool(o2, [1,2,2,1], [1,2,2,1], 'VALID')\n",
    "    \n",
    "    ### Flatten: input 5x5x32, output 800\n",
    "    o2 = tf.contrib.layers.flatten(o2)\n",
    "    \n",
    "    ### Layer 3\n",
    "    # Fully connected: input 800 output 240\n",
    "    W[2] = tf.Variable(tf.random_normal([800, 240], mean=0, stddev=sigma))\n",
    "    B[2] = tf.Variable(tf.zeros([240]))\n",
    "    o3 = tf.matmul(o2, W[2]) + B[2]\n",
    "    \n",
    "    # Activation\n",
    "    o3 = tf.nn.relu(o3)\n",
    "    \n",
    "    ### Layer 4\n",
    "    # Fully connected: input 240, output 150\n",
    "    W[3] = tf.Variable(tf.random_normal([240, 150], mean=0, stddev=sigma))\n",
    "    B[3] = tf.Variable(tf.zeros(150))\n",
    "    o4 = tf.matmul(o3, W[3]) + B[3]\n",
    "    \n",
    "    # Activation\n",
    "    o4 = tf.nn.relu(o4)\n",
    "    \n",
    "    ### Layer 5\n",
    "    # Fully connected: input 150, output 43\n",
    "    W[4] = tf.Variable(tf.random_normal([150, 43], mean=0, stddev=sigma))\n",
    "    B[4] = tf.Variable(tf.zeros(43))\n",
    "    logits = tf.matmul(o4, W[4]) + B[4]\n",
    "    \n",
    "    if False:\n",
    "        print(\"x.shape:\", x.shape)\n",
    "        print(\"o1.shape:\", o1.shape)\n",
    "        print(\"o2.shape:\", o2.shape)\n",
    "        print(\"o3.shape:\", o3.shape)\n",
    "        print(\"o4.shape:\", o4.shape)\n",
    "        print(\"logits.shape:\", logits.shape)\n",
    "    \n",
    "    return logits\n",
    "    \n",
    "#TrafficSignClassifier(X_train)"
   ]
  },
  {
   "cell_type": "markdown",
   "metadata": {},
   "source": [
    "### Train, Validate and Test the Model"
   ]
  },
  {
   "cell_type": "markdown",
   "metadata": {},
   "source": [
    "A validation set can be used to assess how well the model is performing. A low accuracy on the training and validation\n",
    "sets imply underfitting. A high accuracy on the training set but low accuracy on the validation set implies overfitting."
   ]
  },
  {
   "cell_type": "code",
   "execution_count": 25,
   "metadata": {},
   "outputs": [
    {
     "name": "stdout",
     "output_type": "stream",
     "text": [
      "Training...\n",
      "EPOCH [1] ... Validation accuracy = 0.649\n",
      "EPOCH [2] ... Validation accuracy = 0.763\n",
      "EPOCH [3] ... Validation accuracy = 0.805\n",
      "EPOCH [4] ... Validation accuracy = 0.836\n",
      "EPOCH [5] ... Validation accuracy = 0.854\n",
      "EPOCH [6] ... Validation accuracy = 0.856\n",
      "EPOCH [7] ... Validation accuracy = 0.855\n",
      "EPOCH [8] ... Validation accuracy = 0.879\n",
      "EPOCH [9] ... Validation accuracy = 0.883\n",
      "EPOCH [10] ... Validation accuracy = 0.878\n",
      "EPOCH [11] ... Validation accuracy = 0.882\n",
      "EPOCH [12] ... Validation accuracy = 0.871\n",
      "EPOCH [13] ... Validation accuracy = 0.880\n",
      "EPOCH [14] ... Validation accuracy = 0.878\n",
      "EPOCH [15] ... Validation accuracy = 0.881\n",
      "EPOCH [16] ... Validation accuracy = 0.893\n",
      "EPOCH [17] ... Validation accuracy = 0.883\n",
      "EPOCH [18] ... Validation accuracy = 0.898\n",
      "EPOCH [19] ... Validation accuracy = 0.895\n",
      "EPOCH [20] ... Validation accuracy = 0.890\n",
      "EPOCH [21] ... Validation accuracy = 0.908\n",
      "EPOCH [22] ... Validation accuracy = 0.901\n",
      "EPOCH [23] ... Validation accuracy = 0.900\n",
      "EPOCH [24] ... Validation accuracy = 0.898\n",
      "EPOCH [25] ... Validation accuracy = 0.892\n",
      "EPOCH [26] ... Validation accuracy = 0.902\n",
      "EPOCH [27] ... Validation accuracy = 0.894\n",
      "EPOCH [28] ... Validation accuracy = 0.910\n",
      "EPOCH [29] ... Validation accuracy = 0.895\n",
      "EPOCH [30] ... Validation accuracy = 0.909\n",
      "EPOCH [31] ... Validation accuracy = 0.896\n",
      "EPOCH [32] ... Validation accuracy = 0.911\n",
      "EPOCH [33] ... Validation accuracy = 0.896\n",
      "EPOCH [34] ... Validation accuracy = 0.905\n",
      "EPOCH [35] ... Validation accuracy = 0.913\n",
      "EPOCH [36] ... Validation accuracy = 0.902\n",
      "EPOCH [37] ... Validation accuracy = 0.906\n",
      "EPOCH [38] ... Validation accuracy = 0.910\n",
      "EPOCH [39] ... Validation accuracy = 0.906\n",
      "EPOCH [40] ... Validation accuracy = 0.900\n",
      "Model saved\n"
     ]
    },
    {
     "data": {
      "image/png": "[encoded data removed]",
      "text/plain": [
       "<matplotlib.figure.Figure at 0x7f24d4709518>"
      ]
     },
     "metadata": {},
     "output_type": "display_data"
    },
    {
     "name": "stdout",
     "output_type": "stream",
     "text": [
      "CPU times: user 2min 43s, sys: 24.2 s, total: 3min 7s\n",
      "Wall time: 2min 36s\n"
     ]
    }
   ],
   "source": [
    "%%time\n",
    "### Train your model here.\n",
    "### Calculate and report the accuracy on the training and validation set.\n",
    "### Once a final model architecture is selected, \n",
    "### the accuracy on the test set should be calculated and reported as well.\n",
    "### Feel free to use as many code cells as needed.\n",
    "import sklearn.utils\n",
    "\n",
    "rate = 0.0003 #0.001\n",
    "EPOCHS = 40 #10\n",
    "BATCH_SIZE = 64 #128\n",
    "accuracy_train = np.zeros(EPOCHS)\n",
    "accuracy_valid = np.zeros(EPOCHS)\n",
    "accuracy_target= np.full(EPOCHS, 0.93)\n",
    "\n",
    "x = tf.placeholder(tf.float32, (None, 32, 32, 1))\n",
    "y = tf.placeholder(tf.int32, (None))\n",
    "one_hot_y = tf.one_hot(y, 43)\n",
    "\n",
    "logits = TrafficSignClassifier(x)\n",
    "cross_entropy = tf.nn.softmax_cross_entropy_with_logits(labels=one_hot_y, logits=logits)\n",
    "loss_operation = tf.reduce_mean(cross_entropy)\n",
    "optimizer = tf.train.AdamOptimizer(learning_rate = rate)\n",
    "training_operation = optimizer.minimize(loss_operation)\n",
    "\n",
    "correct_prediction = tf.equal(tf.argmax(logits, 1), tf.argmax(one_hot_y, 1))\n",
    "accuracy_operation = tf.reduce_mean(tf.cast(correct_prediction, tf.float32))\n",
    "saver = tf.train.Saver()\n",
    "\n",
    "def evaluate(X_data, y_data):\n",
    "    num_examples = len(X_data)\n",
    "    total_accuracy = 0\n",
    "    sess = tf.get_default_session()\n",
    "    for offset in range(0, num_examples, BATCH_SIZE):\n",
    "        batch_x, batch_y = X_data[offset:offset+BATCH_SIZE], y_data[offset:offset+BATCH_SIZE]\n",
    "#        print(\"evaluate() batch x:\", len(batch_x), \",\", len(batch_y), \")\")\n",
    "        accuracy = sess.run(accuracy_operation, feed_dict={x: batch_x, y: batch_y})\n",
    "        total_accuracy += (accuracy * len(batch_x))\n",
    "    return total_accuracy / num_examples\n",
    "\n",
    "with tf.Session() as sess:\n",
    "    sess.run(tf.global_variables_initializer())\n",
    "    num_examples = len(X_train)\n",
    "    \n",
    "    print(\"Training...\")\n",
    "#    print()\n",
    "    for i in range(EPOCHS):\n",
    "        X_train, y_train = sklearn.utils.shuffle(X_train, y_train)\n",
    "        for offset in range(0, num_examples, BATCH_SIZE):\n",
    "            end = offset + BATCH_SIZE\n",
    "            batch_x, batch_y = X_train[offset:end], y_train[offset:end]\n",
    "            sess.run(training_operation, feed_dict={x: batch_x, y: batch_y})\n",
    "            \n",
    "        validation_accuracy = evaluate(X_valid, y_valid)\n",
    "#        accuracy_train[i] = validation_accuracy\n",
    "        accuracy_valid[i] = validation_accuracy\n",
    "        print(\"EPOCH [{}] ... Validation accuracy = {:.3f}\".format(i+1, validation_accuracy))\n",
    "#        print(\"EPOCH [{}] ...\".format(i+1))\n",
    "#        print(\"Validation accuracy = {:.3f}\".format(validation_accuracy))\n",
    "#        print()\n",
    "        \n",
    "    saver.save(sess, './TrafSignClass')\n",
    "    print(\"Model saved\")\n",
    "    \n",
    "    plt.plot(accuracy_valid)\n",
    "    plt.plot(accuracy_target)\n",
    "    plt.xlabel(\"epoch\")\n",
    "    plt.ylabel(\"accuracy\")\n",
    "    plt.grid(True)\n",
    "    plt.show()\n",
    "        \n",
    "#    test_accuracy = evaluate(X_test, y_test)\n",
    "#    print(\"Test accuracy = {:.3f}\".format(test_accuracy))\n"
   ]
  },
  {
   "cell_type": "markdown",
   "metadata": {},
   "source": [
    "---\n",
    "\n",
    "## Step 3: Test a Model on New Images\n",
    "\n",
    "To give yourself more insight into how your model is working, download at least five pictures of German traffic signs from the web and use your model to predict the traffic sign type.\n",
    "\n",
    "You may find `signnames.csv` useful as it contains mappings from the class id (integer) to the actual sign name."
   ]
  },
  {
   "cell_type": "markdown",
   "metadata": {},
   "source": [
    "### Load and Output the Images"
   ]
  },
  {
   "cell_type": "code",
   "execution_count": null,
   "metadata": {
    "collapsed": true
   },
   "outputs": [],
   "source": [
    "### Load the images and plot them here.\n",
    "### Feel free to use as many code cells as needed."
   ]
  },
  {
   "cell_type": "markdown",
   "metadata": {},
   "source": [
    "### Predict the Sign Type for Each Image"
   ]
  },
  {
   "cell_type": "code",
   "execution_count": null,
   "metadata": {
    "collapsed": true
   },
   "outputs": [],
   "source": [
    "### Run the predictions here and use the model to output the prediction for each image.\n",
    "### Make sure to pre-process the images with the same pre-processing pipeline used earlier.\n",
    "### Feel free to use as many code cells as needed."
   ]
  },
  {
   "cell_type": "markdown",
   "metadata": {},
   "source": [
    "### Analyze Performance"
   ]
  },
  {
   "cell_type": "code",
   "execution_count": null,
   "metadata": {
    "collapsed": true
   },
   "outputs": [],
   "source": [
    "### Calculate the accuracy for these 5 new images. \n",
    "### For example, if the model predicted 1 out of 5 signs correctly, it's 20% accurate on these new images."
   ]
  },
  {
   "cell_type": "markdown",
   "metadata": {},
   "source": [
    "### Output Top 5 Softmax Probabilities For Each Image Found on the Web"
   ]
  },
  {
   "cell_type": "markdown",
   "metadata": {},
   "source": [
    "For each of the new images, print out the model's softmax probabilities to show the **certainty** of the model's predictions (limit the output to the top 5 probabilities for each image). [`tf.nn.top_k`](https://www.tensorflow.org/versions/r0.12/api_docs/python/nn.html#top_k) could prove helpful here. \n",
    "\n",
    "The example below demonstrates how tf.nn.top_k can be used to find the top k predictions for each image.\n",
    "\n",
    "`tf.nn.top_k` will return the values and indices (class ids) of the top k predictions. So if k=3, for each sign, it'll return the 3 largest probabilities (out of a possible 43) and the correspoding class ids.\n",
    "\n",
    "Take this numpy array as an example. The values in the array represent predictions. The array contains softmax probabilities for five candidate images with six possible classes. `tk.nn.top_k` is used to choose the three classes with the highest probability:\n",
    "\n",
    "```\n",
    "# (5, 6) array\n",
    "a = np.array([[ 0.24879643,  0.07032244,  0.12641572,  0.34763842,  0.07893497,\n",
    "         0.12789202],\n",
    "       [ 0.28086119,  0.27569815,  0.08594638,  0.0178669 ,  0.18063401,\n",
    "         0.15899337],\n",
    "       [ 0.26076848,  0.23664738,  0.08020603,  0.07001922,  0.1134371 ,\n",
    "         0.23892179],\n",
    "       [ 0.11943333,  0.29198961,  0.02605103,  0.26234032,  0.1351348 ,\n",
    "         0.16505091],\n",
    "       [ 0.09561176,  0.34396535,  0.0643941 ,  0.16240774,  0.24206137,\n",
    "         0.09155967]])\n",
    "```\n",
    "\n",
    "Running it through `sess.run(tf.nn.top_k(tf.constant(a), k=3))` produces:\n",
    "\n",
    "```\n",
    "TopKV2(values=array([[ 0.34763842,  0.24879643,  0.12789202],\n",
    "       [ 0.28086119,  0.27569815,  0.18063401],\n",
    "       [ 0.26076848,  0.23892179,  0.23664738],\n",
    "       [ 0.29198961,  0.26234032,  0.16505091],\n",
    "       [ 0.34396535,  0.24206137,  0.16240774]]), indices=array([[3, 0, 5],\n",
    "       [0, 1, 4],\n",
    "       [0, 5, 1],\n",
    "       [1, 3, 5],\n",
    "       [1, 4, 3]], dtype=int32))\n",
    "```\n",
    "\n",
    "Looking just at the first row we get `[ 0.34763842,  0.24879643,  0.12789202]`, you can confirm these are the 3 largest probabilities in `a`. You'll also notice `[3, 0, 5]` are the corresponding indices."
   ]
  },
  {
   "cell_type": "code",
   "execution_count": null,
   "metadata": {
    "collapsed": true
   },
   "outputs": [],
   "source": [
    "### Print out the top five softmax probabilities for the predictions on the German traffic sign images found on the web. \n",
    "### Feel free to use as many code cells as needed."
   ]
  },
  {
   "cell_type": "markdown",
   "metadata": {},
   "source": [
    "### Project Writeup\n",
    "\n",
    "Once you have completed the code implementation, document your results in a project writeup using this [template](https://github.com/udacity/CarND-Traffic-Sign-Classifier-Project/blob/master/writeup_template.md) as a guide. The writeup can be in a markdown or pdf file. "
   ]
  },
  {
   "cell_type": "markdown",
   "metadata": {},
   "source": [
    "> **Note**: Once you have completed all of the code implementations and successfully answered each question above, you may finalize your work by exporting the iPython Notebook as an HTML document. You can do this by using the menu above and navigating to  \\n\",\n",
    "    \"**File -> Download as -> HTML (.html)**. Include the finished document along with this notebook as your submission."
   ]
  },
  {
   "cell_type": "markdown",
   "metadata": {},
   "source": [
    "---\n",
    "\n",
    "## Step 4 (Optional): Visualize the Neural Network's State with Test Images\n",
    "\n",
    " This Section is not required to complete but acts as an additional excersise for understaning the output of a neural network's weights. While neural networks can be a great learning device they are often referred to as a black box. We can understand what the weights of a neural network look like better by plotting their feature maps. After successfully training your neural network you can see what it's feature maps look like by plotting the output of the network's weight layers in response to a test stimuli image. From these plotted feature maps, it's possible to see what characteristics of an image the network finds interesting. For a sign, maybe the inner network feature maps react with high activation to the sign's boundary outline or to the contrast in the sign's painted symbol.\n",
    "\n",
    " Provided for you below is the function code that allows you to get the visualization output of any tensorflow weight layer you want. The inputs to the function should be a stimuli image, one used during training or a new one you provided, and then the tensorflow variable name that represents the layer's state during the training process, for instance if you wanted to see what the [LeNet lab's](https://classroom.udacity.com/nanodegrees/nd013/parts/fbf77062-5703-404e-b60c-95b78b2f3f9e/modules/6df7ae49-c61c-4bb2-a23e-6527e69209ec/lessons/601ae704-1035-4287-8b11-e2c2716217ad/concepts/d4aca031-508f-4e0b-b493-e7b706120f81) feature maps looked like for it's second convolutional layer you could enter conv2 as the tf_activation variable.\n",
    "\n",
    "For an example of what feature map outputs look like, check out NVIDIA's results in their paper [End-to-End Deep Learning for Self-Driving Cars](https://devblogs.nvidia.com/parallelforall/deep-learning-self-driving-cars/) in the section Visualization of internal CNN State. NVIDIA was able to show that their network's inner weights had high activations to road boundary lines by comparing feature maps from an image with a clear path to one without. Try experimenting with a similar test to show that your trained network's weights are looking for interesting features, whether it's looking at differences in feature maps from images with or without a sign, or even what feature maps look like in a trained network vs a completely untrained one on the same sign image.\n",
    "\n",
    "<figure>\n",
    " <img src=\"visualize_cnn.png\" width=\"380\" alt=\"Combined Image\" />\n",
    " <figcaption>\n",
    " <p></p> \n",
    " <p style=\"text-align: center;\"> Your output should look something like this (above)</p> \n",
    " </figcaption>\n",
    "</figure>\n",
    " <p></p> \n"
   ]
  },
  {
   "cell_type": "code",
   "execution_count": null,
   "metadata": {
    "collapsed": true
   },
   "outputs": [],
   "source": [
    "### Visualize your network's feature maps here.\n",
    "### Feel free to use as many code cells as needed.\n",
    "\n",
    "# image_input: the test image being fed into the network to produce the feature maps\n",
    "# tf_activation: should be a tf variable name used during your training procedure that represents the calculated state of a specific weight layer\n",
    "# activation_min/max: can be used to view the activation contrast in more detail, by default matplot sets min and max to the actual min and max values of the output\n",
    "# plt_num: used to plot out multiple different weight feature map sets on the same block, just extend the plt number for each new feature map entry\n",
    "\n",
    "def outputFeatureMap(image_input, tf_activation, activation_min=-1, activation_max=-1 ,plt_num=1):\n",
    "    # Here make sure to preprocess your image_input in a way your network expects\n",
    "    # with size, normalization, ect if needed\n",
    "    # image_input =\n",
    "    # Note: x should be the same name as your network's tensorflow data placeholder variable\n",
    "    # If you get an error tf_activation is not defined it may be having trouble accessing the variable from inside a function\n",
    "    activation = tf_activation.eval(session=sess,feed_dict={x : image_input})\n",
    "    featuremaps = activation.shape[3]\n",
    "    plt.figure(plt_num, figsize=(15,15))\n",
    "    for featuremap in range(featuremaps):\n",
    "        plt.subplot(6,8, featuremap+1) # sets the number of feature maps to show on each row and column\n",
    "        plt.title('FeatureMap ' + str(featuremap)) # displays the feature map number\n",
    "        if activation_min != -1 & activation_max != -1:\n",
    "            plt.imshow(activation[0,:,:, featuremap], interpolation=\"nearest\", vmin =activation_min, vmax=activation_max, cmap=\"gray\")\n",
    "        elif activation_max != -1:\n",
    "            plt.imshow(activation[0,:,:, featuremap], interpolation=\"nearest\", vmax=activation_max, cmap=\"gray\")\n",
    "        elif activation_min !=-1:\n",
    "            plt.imshow(activation[0,:,:, featuremap], interpolation=\"nearest\", vmin=activation_min, cmap=\"gray\")\n",
    "        else:\n",
    "            plt.imshow(activation[0,:,:, featuremap], interpolation=\"nearest\", cmap=\"gray\")"
   ]
  }
 ],
 "metadata": {
  "anaconda-cloud": {},
  "kernelspec": {
   "display_name": "Python 3",
   "language": "python",
   "name": "python3"
  },
  "language_info": {
   "codemirror_mode": {
    "name": "ipython",
    "version": 3
   },
   "file_extension": ".py",
   "mimetype": "text/x-python",
   "name": "python",
   "nbconvert_exporter": "python",
   "pygments_lexer": "ipython3",
   "version": "3.5.3"
  },
  "widgets": {
   "state": {},
   "version": "1.1.2"
  }
 },
 "nbformat": 4,
 "nbformat_minor": 1
}
